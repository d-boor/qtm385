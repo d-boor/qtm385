{
  "cells": [
    {
      "cell_type": "markdown",
      "metadata": {},
      "source": [
        "---\n",
        "title: \"QTM 385 - Experimental Methods\"\n",
        "subtitle: Assignment 02\n",
        "---\n",
        "\n",
        "# Instructions\n",
        "\n",
        "This assignment covers lectures 3 and 4 of the course. It consists of 10 questions, each worth one point, about the potential outcomes framework, selection bias, and the use of regression in experimental research. You can answer the questions in any format you prefer, but I recommend using either Jupyter Notebook or PDF, as they are easier to read on Canvas. Please write at least two paragraphs for each written question.\n",
        "\n",
        "If you have any questions about the assignment, feel free to email me at <danilo.freire@emory.edu>.\n",
        "\n",
        "Good luck!\n",
        "\n",
        "# Questions \n",
        "\n",
        "1.  What is the fundamental problem of causal inference, and how does the potential outcomes framework help us understand it? \n",
        "\n",
        "2. Explain the following notation:\n",
        "    - $Y_i(1)$\n",
        "    - $Y_i(0)$\n",
        "    - $Y_i(0) | T = 1$\n",
        "    - $Y_i(1) | T = 0$\n",
        "    - Is $E[Y_i(1)]$ the same as $E[Y_i(1) | T = 1]$? Why or why not?\n",
        "\n",
        "3.  Explain the concept of selection bias. How does it affect our ability to estimate causal effects? \n",
        "\n",
        "4.  What is the Stable Unit Treatment Value Assumption (SUTVA), and why is it important for causal inference? Give an example of a situation where SUTVA might be violated (not included in the slides).\n",
        "\n",
        "5.  What is a \"balance test\" (or \"randomisation check\")? What is its purpose and its limitations?\n",
        "\n",
        "6. What is post-treatment bias (or overcontrol), and why is it a problem?\n",
        "\n",
        "7. A study examines the impact of a new teaching method on student test scores. Students are randomly assigned to either the new method or a traditional one. However, students in the new method group are more likely to withdraw from the study. What type of selection bias is this, and how might it affect the results?\n",
        "\n",
        "8. Consider a new educational program and its effect on student test scores. Students are randomly assigned to either the program or a control group. However, the program's effect varies depending on students' prior knowledge. What is this phenomenon called, and how might it affect the interpretation of the results?\n",
        "\n",
        "9. Suppose a new drug's effect on blood pressure is being investigated. Participants are randomly assigned to either the drug or a placebo. However, some participants in the drug group do not adhere to the prescribed dosage. What is this issue called, and how might it affect the results?\n",
        "\n",
        "10.  Explain how to estimate the average treatment effect using regression analysis, and why it is a good idea to include covariates in the analysis."
      ]
    },
    {
      "cell_type": "markdown",
      "metadata": {},
      "source": [
        "#### 1. The fundemental issue with causal inference is that when testing the effects of some treatment, we cannot see the world where the same exact indivuals were not given the treatment."
      ]
    },
    {
      "cell_type": "markdown",
      "metadata": {},
      "source": [
        "#### 2.\n",
        "- $Y_i(1)$ is the observed outcome of an indiviual if they were treated\n",
        "- $Y_i(0)$ is the observed outcome of an indiviual if they were not treated\n",
        "- $Y_i(0)$ | T=1 is the hypothetical outcome of an indiviual that was not treated if they were treated\n",
        "- $Y_i(1)$ | T=0 is the hypothetical outcome of an indiviual that was treated if they were not treated\n",
        "\n",
        "    - Is $E[Y_i(1)]$ the same as $E[Y_i(1) | T = 1]$? Why or why not?\n",
        "    In the real world no, however in ficticous worlds where we have $Y_i(1)$ | T=0 they will be different"
      ]
    },
    {
      "cell_type": "markdown",
      "metadata": {},
      "source": [
        "#### 3. Selection bias is the reality is that our treatment groups are not always the same, and it strongly hinders our ability to estimate causal effects"
      ]
    },
    {
      "cell_type": "markdown",
      "metadata": {},
      "source": [
        "#### 4. STUVA assumes that an individuals outcomes are not affected by anothers treatment. Just because they got a placebo has no effect on me. If there was an experiment testing the effects of paying doctors per patient as compared to monthly, then that me and my partnet were in the same experiment, in different groups, we would see that I wouls still be sharing the income from their \"treatment\" affecting my workload."
      ]
    },
    {
      "cell_type": "markdown",
      "metadata": {},
      "source": [
        "#### 5. A balance test is a way to check for selection bias by checking different statistics on covariates and outcomes for the two groups. It helps give us a rough idea if they are or arent related but realistically, we can have variation from pure chance so it's not very useful"
      ]
    },
    {
      "cell_type": "markdown",
      "metadata": {},
      "source": [
        "#### 6. An issue with controling for variables that are affected by treatment i.e. treatment is going to class, variable is  amount of time on Emory campus, it can still be a confounding variable but there's nothing we can do about it."
      ]
    },
    {
      "cell_type": "markdown",
      "metadata": {},
      "source": [
        "#### 7.  This is survivorship bias where we only keep those that completely finish at treatment, ignoring those who dropped out. This can cause us to over or underestimate our treatment effect as our sample is no longer controlled."
      ]
    },
    {
      "cell_type": "markdown",
      "metadata": {},
      "source": [
        "#### 8. This is an issue of selection bias, where the groups were different before even starting the treatment, if we controlled for it by testing aptitudes beforehand it should not be an issue"
      ]
    },
    {
      "cell_type": "markdown",
      "metadata": {},
      "source": [
        "#### 9. This is called non-compliance, where the participants do not follow the treatment, and it can cause us to over or most likely underestimate our treatment effect."
      ]
    },
    {
      "cell_type": "markdown",
      "metadata": {},
      "source": [
        "#### 10. We can estimate our treatment effect via a linear regression, where we have the outcome= the base outcome without treatment+ the effect of treatment + our measured variables + error. While that is a large amount of writing the important thing to understand is we can isolate the effect of our treatment, and the more covariates we add, the close to the true ATE we will get."
      ]
    }
  ],
  "metadata": {
    "kernelspec": {
      "display_name": "Python 3 (ipykernel)",
      "language": "python",
      "name": "python3",
      "path": "/opt/miniconda3/share/jupyter/kernels/python3"
    }
  },
  "nbformat": 4,
  "nbformat_minor": 4
}
